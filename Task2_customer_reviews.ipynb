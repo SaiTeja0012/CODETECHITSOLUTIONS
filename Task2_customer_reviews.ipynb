{
  "nbformat": 4,
  "nbformat_minor": 0,
  "metadata": {
    "colab": {
      "provenance": []
    },
    "kernelspec": {
      "name": "python3",
      "display_name": "Python 3"
    },
    "language_info": {
      "name": "python"
    }
  },
  "cells": [
    {
      "cell_type": "code",
      "execution_count": 2,
      "metadata": {
        "colab": {
          "base_uri": "https://localhost:8080/"
        },
        "id": "w3GAwjNyNDek",
        "outputId": "02446131-0346-49cc-d2a8-8cdb98336df5"
      },
      "outputs": [
        {
          "output_type": "stream",
          "name": "stdout",
          "text": [
            "Accuracy: 1.0\n",
            "\n",
            "Classification Report:\n",
            "               precision    recall  f1-score   support\n",
            "\n",
            "           0       1.00      1.00      1.00         1\n",
            "           1       1.00      1.00      1.00         1\n",
            "\n",
            "    accuracy                           1.00         2\n",
            "   macro avg       1.00      1.00      1.00         2\n",
            "weighted avg       1.00      1.00      1.00         2\n",
            "\n",
            "\n",
            "Confusion Matrix:\n",
            " [[1 0]\n",
            " [0 1]]\n"
          ]
        }
      ],
      "source": [
        "# 1. Import libraries\n",
        "import pandas as pd\n",
        "import numpy as np\n",
        "from sklearn.model_selection import train_test_split\n",
        "from sklearn.feature_extraction.text import TfidfVectorizer\n",
        "from sklearn.linear_model import LogisticRegression\n",
        "from sklearn.metrics import accuracy_score, classification_report, confusion_matrix\n",
        "import re\n",
        "import string\n",
        "\n",
        "# 2. Load Dataset (Use your own CSV or load sample)\n",
        "# Sample dataset format: columns=[\"review\", \"sentiment\"]\n",
        "# Sentiment = 1 for Positive, 0 for Negative\n",
        "df = pd.read_csv(\"customer_reviews.csv\")  # Change to your file path\n",
        "\n",
        "# 3. Text Preprocessing function\n",
        "def clean_text(text):\n",
        "    text = text.lower()                           # Lowercase\n",
        "    text = re.sub(r'\\d+', '', text)               # Remove numbers\n",
        "    text = text.translate(str.maketrans('', '', string.punctuation))  # Remove punctuation\n",
        "    text = re.sub(r'\\s+', ' ', text).strip()      # Remove extra spaces\n",
        "    return text\n",
        "\n",
        "df['clean_review'] = df['review'].apply(clean_text)\n",
        "\n",
        "# 4. Split the dataset\n",
        "X_train, X_test, y_train, y_test = train_test_split(\n",
        "    df['clean_review'], df['sentiment'], test_size=0.2, random_state=42)\n",
        "\n",
        "# 5. TF-IDF Vectorization\n",
        "tfidf = TfidfVectorizer(stop_words='english', max_features=5000)\n",
        "X_train_tfidf = tfidf.fit_transform(X_train)\n",
        "X_test_tfidf = tfidf.transform(X_test)\n",
        "\n",
        "# 6. Train Logistic Regression model\n",
        "model = LogisticRegression()\n",
        "model.fit(X_train_tfidf, y_train)\n",
        "\n",
        "# 7. Predictions\n",
        "y_pred = model.predict(X_test_tfidf)\n",
        "\n",
        "# 8. Evaluation\n",
        "print(\"Accuracy:\", accuracy_score(y_test, y_pred))\n",
        "print(\"\\nClassification Report:\\n\", classification_report(y_test, y_pred))\n",
        "print(\"\\nConfusion Matrix:\\n\", confusion_matrix(y_test, y_pred))\n"
      ]
    }
  ]
}