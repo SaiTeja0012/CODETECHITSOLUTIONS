{
  "nbformat": 4,
  "nbformat_minor": 0,
  "metadata": {
    "colab": {
      "provenance": []
    },
    "kernelspec": {
      "name": "python3",
      "display_name": "Python 3"
    },
    "language_info": {
      "name": "python"
    }
  },
  "cells": [
    {
      "cell_type": "code",
      "source": [
        "!pip install numpy==1.24.3\n",
        "!pip install scikit-surprise --no-binary :all:"
      ],
      "metadata": {
        "colab": {
          "base_uri": "https://localhost:8080/"
        },
        "id": "KqTwc3bneTqB",
        "outputId": "fdc7ad44-7b3d-49a3-9f3f-4eee340beff4"
      },
      "execution_count": 1,
      "outputs": [
        {
          "output_type": "stream",
          "name": "stdout",
          "text": [
            "Requirement already satisfied: numpy==1.24.3 in /usr/local/lib/python3.11/dist-packages (1.24.3)\n",
            "Collecting scikit-surprise\n",
            "  Using cached scikit_surprise-1.1.4.tar.gz (154 kB)\n",
            "  Installing build dependencies ... \u001b[?25l\u001b[?25hdone\n",
            "  Getting requirements to build wheel ... \u001b[?25l\u001b[?25hdone\n",
            "  Preparing metadata (pyproject.toml) ... \u001b[?25l\u001b[?25hdone\n",
            "Requirement already satisfied: joblib>=1.2.0 in /usr/local/lib/python3.11/dist-packages (from scikit-surprise) (1.5.1)\n",
            "Requirement already satisfied: numpy>=1.19.5 in /usr/local/lib/python3.11/dist-packages (from scikit-surprise) (1.24.3)\n",
            "Requirement already satisfied: scipy>=1.6.0 in /usr/local/lib/python3.11/dist-packages (from scikit-surprise) (1.15.3)\n",
            "Building wheels for collected packages: scikit-surprise\n",
            "  Building wheel for scikit-surprise (pyproject.toml) ... \u001b[?25l\u001b[?25hdone\n",
            "  Created wheel for scikit-surprise: filename=scikit_surprise-1.1.4-cp311-cp311-linux_x86_64.whl size=2469548 sha256=b1386b932d5c43b7a94b869132238c644199e848d3a783776e2abc8ab71c68d4\n",
            "  Stored in directory: /root/.cache/pip/wheels/2a/8f/6e/7e2899163e2d85d8266daab4aa1cdabec7a6c56f83c015b5af\n",
            "Successfully built scikit-surprise\n",
            "Installing collected packages: scikit-surprise\n",
            "Successfully installed scikit-surprise-1.1.4\n"
          ]
        }
      ]
    },
    {
      "cell_type": "code",
      "execution_count": 2,
      "metadata": {
        "colab": {
          "base_uri": "https://localhost:8080/"
        },
        "id": "dKUl_NzSc0ku",
        "outputId": "2ea3dddc-4ed0-4902-f621-566c1cceead1"
      },
      "outputs": [
        {
          "output_type": "stream",
          "name": "stdout",
          "text": [
            "Dataset ml-100k could not be found. Do you want to download it? [Y/n] y\n",
            "Trying to download dataset from https://files.grouplens.org/datasets/movielens/ml-100k.zip...\n",
            "Done! Dataset ml-100k has been saved to /root/.surprise_data/ml-100k\n",
            "Evaluating RMSE, MAE of algorithm SVD on 5 split(s).\n",
            "\n",
            "                  Fold 1  Fold 2  Fold 3  Fold 4  Fold 5  Mean    Std     \n",
            "RMSE (testset)    0.9497  0.9316  0.9358  0.9279  0.9358  0.9362  0.0074  \n",
            "MAE (testset)     0.7465  0.7350  0.7393  0.7309  0.7377  0.7379  0.0052  \n",
            "Fit time          1.63    1.41    1.33    1.28    1.28    1.39    0.13    \n",
            "Test time         0.27    0.18    0.11    0.18    0.12    0.17    0.06    \n",
            "user: 196        item: 302        r_ui = None   est = 4.32   {'was_impossible': False}\n"
          ]
        }
      ],
      "source": [
        "# Task 4: Recommendation System (Collaborative Filtering)\n",
        "\n",
        "from surprise import Dataset, Reader, SVD\n",
        "from surprise.model_selection import cross_validate\n",
        "\n",
        "# Load MovieLens dataset\n",
        "data = Dataset.load_builtin('ml-100k')\n",
        "\n",
        "# Define algorithm - SVD (Singular Value Decomposition)\n",
        "algo = SVD()\n",
        "\n",
        "# Evaluate performance using cross-validation\n",
        "cross_validate(algo, data, measures=['RMSE', 'MAE'], cv=5, verbose=True)\n",
        "\n",
        "# Train on full dataset\n",
        "trainset = data.build_full_trainset()\n",
        "algo.fit(trainset)\n",
        "\n",
        "# Predict rating for a user and item\n",
        "uid = str(196)  # user ID\n",
        "iid = str(302)  # item ID\n",
        "pred = algo.predict(uid, iid, verbose=True)\n"
      ]
    },
    {
      "cell_type": "code",
      "source": [],
      "metadata": {
        "id": "aGPnnUgbdTJl"
      },
      "execution_count": 2,
      "outputs": []
    }
  ]
}